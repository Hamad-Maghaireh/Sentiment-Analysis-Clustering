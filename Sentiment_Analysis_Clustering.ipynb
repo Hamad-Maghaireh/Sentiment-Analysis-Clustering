{
  "cells": [
    {
      "cell_type": "code",
      "execution_count": 2,
      "metadata": {
        "_cell_guid": "b1076dfc-b9ad-4769-8c92-a6c4dae69d19",
        "_uuid": "8f2839f25d086af736a60e9eeb907d3b93b6e0e5",
        "execution": {
          "iopub.execute_input": "2025-02-20T21:49:30.906085Z",
          "iopub.status.busy": "2025-02-20T21:49:30.905780Z",
          "iopub.status.idle": "2025-02-20T21:49:48.004843Z",
          "shell.execute_reply": "2025-02-20T21:49:48.004020Z",
          "shell.execute_reply.started": "2025-02-20T21:49:30.906062Z"
        },
        "id": "p_GMTEjiGe1j",
        "trusted": true
      },
      "outputs": [],
      "source": [
        "import pandas as pd\n",
        "import seaborn as sns\n",
        "import numpy as np\n",
        "import re\n",
        "import nltk\n",
        "import matplotlib.pyplot as plt\n",
        "from nltk.tokenize import WordPunctTokenizer\n",
        "from nltk.corpus import stopwords\n",
        "from sklearn.cluster import KMeans"
      ]
    },
    {
      "cell_type": "code",
      "execution_count": 3,
      "metadata": {
        "colab": {
          "base_uri": "https://localhost:8080/"
        },
        "id": "zLIOpBjTnFEI",
        "outputId": "72c223d1-3efe-4013-f642-0183915582de"
      },
      "outputs": [
        {
          "output_type": "stream",
          "name": "stdout",
          "text": [
            "Mounted at /content/drive\n"
          ]
        }
      ],
      "source": [
        "from google.colab import drive\n",
        "drive.mount('/content/drive')"
      ]
    },
    {
      "cell_type": "code",
      "execution_count": 4,
      "metadata": {
        "execution": {
          "iopub.execute_input": "2025-02-20T22:49:35.054565Z",
          "iopub.status.busy": "2025-02-20T22:49:35.054102Z",
          "iopub.status.idle": "2025-02-20T22:49:35.341780Z",
          "shell.execute_reply": "2025-02-20T22:49:35.340714Z",
          "shell.execute_reply.started": "2025-02-20T22:49:35.054524Z"
        },
        "id": "HafQKa-eGe1q",
        "trusted": true
      },
      "outputs": [],
      "source": [
        "df = pd.read_csv(\"/content/drive/MyDrive/Train.csv\")\n",
        "df_test=pd.read_csv(\"/content/drive/MyDrive/Test.csv\")"
      ]
    },
    {
      "cell_type": "code",
      "execution_count": 5,
      "metadata": {
        "colab": {
          "base_uri": "https://localhost:8080/",
          "height": 209
        },
        "execution": {
          "iopub.execute_input": "2025-02-20T21:49:48.530735Z",
          "iopub.status.busy": "2025-02-20T21:49:48.530371Z",
          "iopub.status.idle": "2025-02-20T21:49:48.548066Z",
          "shell.execute_reply": "2025-02-20T21:49:48.547296Z",
          "shell.execute_reply.started": "2025-02-20T21:49:48.530698Z"
        },
        "id": "loNIG5ciGe1r",
        "outputId": "cf8d43d5-d2f4-44c2-affd-5e1e705513cb",
        "trusted": true
      },
      "outputs": [
        {
          "output_type": "execute_result",
          "data": {
            "text/plain": [
              "Rating\n",
              "3    30503\n",
              "1    16147\n",
              "2     1350\n",
              "Name: count, dtype: int64"
            ],
            "text/html": [
              "<div>\n",
              "<style scoped>\n",
              "    .dataframe tbody tr th:only-of-type {\n",
              "        vertical-align: middle;\n",
              "    }\n",
              "\n",
              "    .dataframe tbody tr th {\n",
              "        vertical-align: top;\n",
              "    }\n",
              "\n",
              "    .dataframe thead th {\n",
              "        text-align: right;\n",
              "    }\n",
              "</style>\n",
              "<table border=\"1\" class=\"dataframe\">\n",
              "  <thead>\n",
              "    <tr style=\"text-align: right;\">\n",
              "      <th></th>\n",
              "      <th>count</th>\n",
              "    </tr>\n",
              "    <tr>\n",
              "      <th>Rating</th>\n",
              "      <th></th>\n",
              "    </tr>\n",
              "  </thead>\n",
              "  <tbody>\n",
              "    <tr>\n",
              "      <th>3</th>\n",
              "      <td>30503</td>\n",
              "    </tr>\n",
              "    <tr>\n",
              "      <th>1</th>\n",
              "      <td>16147</td>\n",
              "    </tr>\n",
              "    <tr>\n",
              "      <th>2</th>\n",
              "      <td>1350</td>\n",
              "    </tr>\n",
              "  </tbody>\n",
              "</table>\n",
              "</div><br><label><b>dtype:</b> int64</label>"
            ]
          },
          "metadata": {},
          "execution_count": 5
        }
      ],
      "source": [
        "#It shows that we have imbalance in our dataset\n",
        "df[\"Rating\"].value_counts()"
      ]
    },
    {
      "cell_type": "markdown",
      "metadata": {
        "id": "yOoiU1i7Ge1u"
      },
      "source": [
        "### Simple Pre Processing"
      ]
    },
    {
      "cell_type": "code",
      "execution_count": 6,
      "metadata": {
        "colab": {
          "base_uri": "https://localhost:8080/"
        },
        "execution": {
          "iopub.execute_input": "2025-02-20T22:49:38.720514Z",
          "iopub.status.busy": "2025-02-20T22:49:38.720189Z",
          "iopub.status.idle": "2025-02-20T22:49:38.727938Z",
          "shell.execute_reply": "2025-02-20T22:49:38.726937Z",
          "shell.execute_reply.started": "2025-02-20T22:49:38.720470Z"
        },
        "id": "vP4l_GZ8Ge1w",
        "outputId": "428b00cd-b27f-411a-9090-962b3e166bb5",
        "trusted": true
      },
      "outputs": [
        {
          "output_type": "stream",
          "name": "stderr",
          "text": [
            "[nltk_data] Downloading package punkt to /root/nltk_data...\n",
            "[nltk_data]   Unzipping tokenizers/punkt.zip.\n",
            "[nltk_data] Downloading package stopwords to /root/nltk_data...\n",
            "[nltk_data]   Unzipping corpora/stopwords.zip.\n",
            "[nltk_data] Downloading package wordnet to /root/nltk_data...\n",
            "[nltk_data] Downloading package punkt_tab to /root/nltk_data...\n",
            "[nltk_data]   Unzipping tokenizers/punkt_tab.zip.\n"
          ]
        },
        {
          "output_type": "execute_result",
          "data": {
            "text/plain": [
              "True"
            ]
          },
          "metadata": {},
          "execution_count": 6
        }
      ],
      "source": [
        "import pandas as pd\n",
        "import re\n",
        "import nltk\n",
        "from nltk.corpus import stopwords\n",
        "from nltk.tokenize import word_tokenize\n",
        "from sklearn.feature_extraction.text import TfidfVectorizer\n",
        "from nltk.stem import WordNetLemmatizer\n",
        "from nltk.stem import PorterStemmer\n",
        "nltk.download('punkt')\n",
        "nltk.download('stopwords')\n",
        "nltk.download('wordnet')\n",
        "nltk.download('punkt_tab')\n"
      ]
    },
    {
      "cell_type": "code",
      "execution_count": 7,
      "metadata": {
        "execution": {
          "iopub.execute_input": "2025-02-20T22:49:43.320783Z",
          "iopub.status.busy": "2025-02-20T22:49:43.320461Z",
          "iopub.status.idle": "2025-02-20T22:49:43.326178Z",
          "shell.execute_reply": "2025-02-20T22:49:43.325172Z",
          "shell.execute_reply.started": "2025-02-20T22:49:43.320757Z"
        },
        "id": "LgjedL0rGe1x",
        "trusted": true
      },
      "outputs": [],
      "source": [
        "def preprocess_text(text):\n",
        "    # Convert to lowercase\n",
        "    text = text.lower()\n",
        "    # Remove special characters & numbers\n",
        "    text = re.sub(r'[^a-z\\s]', '', text)\n",
        "    # Tokenization\n",
        "    tokens = word_tokenize(text)\n",
        "    # Remove stopwords\n",
        "    tokens = [word for word in tokens if word not in stopwords.words('english')]\n",
        "    # lemmatizer (get the root of the word)\n",
        "    lemmatizer = WordNetLemmatizer()\n",
        "    tokens = [lemmatizer.lemmatize(word) for word in tokens]\n",
        "\n",
        "    # Join tokens back to a string\n",
        "    return ' '.join(tokens)\n"
      ]
    },
    {
      "cell_type": "code",
      "execution_count": 8,
      "metadata": {
        "colab": {
          "base_uri": "https://localhost:8080/",
          "height": 458
        },
        "execution": {
          "iopub.execute_input": "2025-02-20T22:49:45.783478Z",
          "iopub.status.busy": "2025-02-20T22:49:45.783113Z",
          "iopub.status.idle": "2025-02-20T22:54:47.298409Z",
          "shell.execute_reply": "2025-02-20T22:54:47.297467Z",
          "shell.execute_reply.started": "2025-02-20T22:49:45.783436Z"
        },
        "id": "KZwQbJvJGe1y",
        "outputId": "33496f0e-592c-47ba-8bb0-8cf84c04f577",
        "trusted": true
      },
      "outputs": [
        {
          "output_type": "execute_result",
          "data": {
            "text/plain": [
              "0        order quickly dispatched product excellent qua...\n",
              "1        ive set phone knocked price quoted id like kno...\n",
              "2        great price next day delivery simple use item ...\n",
              "3        first time buying site say start finish smooth...\n",
              "4        worst phone provider ever got phone contract p...\n",
              "                               ...                        \n",
              "47995    absolute utter incompetence weve finally enabl...\n",
              "47996    poorly trimmed photo uneven border resent orde...\n",
              "47997    day delivery hisense fridge notified delivery ...\n",
              "47998    great service wide range spare good price prom...\n",
              "47999    paid premium delivery specific date arrived da...\n",
              "Name: clean reviews, Length: 48000, dtype: object"
            ],
            "text/html": [
              "<div>\n",
              "<style scoped>\n",
              "    .dataframe tbody tr th:only-of-type {\n",
              "        vertical-align: middle;\n",
              "    }\n",
              "\n",
              "    .dataframe tbody tr th {\n",
              "        vertical-align: top;\n",
              "    }\n",
              "\n",
              "    .dataframe thead th {\n",
              "        text-align: right;\n",
              "    }\n",
              "</style>\n",
              "<table border=\"1\" class=\"dataframe\">\n",
              "  <thead>\n",
              "    <tr style=\"text-align: right;\">\n",
              "      <th></th>\n",
              "      <th>clean reviews</th>\n",
              "    </tr>\n",
              "  </thead>\n",
              "  <tbody>\n",
              "    <tr>\n",
              "      <th>0</th>\n",
              "      <td>order quickly dispatched product excellent qua...</td>\n",
              "    </tr>\n",
              "    <tr>\n",
              "      <th>1</th>\n",
              "      <td>ive set phone knocked price quoted id like kno...</td>\n",
              "    </tr>\n",
              "    <tr>\n",
              "      <th>2</th>\n",
              "      <td>great price next day delivery simple use item ...</td>\n",
              "    </tr>\n",
              "    <tr>\n",
              "      <th>3</th>\n",
              "      <td>first time buying site say start finish smooth...</td>\n",
              "    </tr>\n",
              "    <tr>\n",
              "      <th>4</th>\n",
              "      <td>worst phone provider ever got phone contract p...</td>\n",
              "    </tr>\n",
              "    <tr>\n",
              "      <th>...</th>\n",
              "      <td>...</td>\n",
              "    </tr>\n",
              "    <tr>\n",
              "      <th>47995</th>\n",
              "      <td>absolute utter incompetence weve finally enabl...</td>\n",
              "    </tr>\n",
              "    <tr>\n",
              "      <th>47996</th>\n",
              "      <td>poorly trimmed photo uneven border resent orde...</td>\n",
              "    </tr>\n",
              "    <tr>\n",
              "      <th>47997</th>\n",
              "      <td>day delivery hisense fridge notified delivery ...</td>\n",
              "    </tr>\n",
              "    <tr>\n",
              "      <th>47998</th>\n",
              "      <td>great service wide range spare good price prom...</td>\n",
              "    </tr>\n",
              "    <tr>\n",
              "      <th>47999</th>\n",
              "      <td>paid premium delivery specific date arrived da...</td>\n",
              "    </tr>\n",
              "  </tbody>\n",
              "</table>\n",
              "<p>48000 rows × 1 columns</p>\n",
              "</div><br><label><b>dtype:</b> object</label>"
            ]
          },
          "metadata": {},
          "execution_count": 8
        }
      ],
      "source": [
        "#applying the function to our dataset\n",
        "df[\"clean reviews\"] = df[\"Review\"].apply(preprocess_text)\n",
        "df[\"clean reviews\"]"
      ]
    },
    {
      "cell_type": "code",
      "execution_count": 9,
      "metadata": {
        "colab": {
          "base_uri": "https://localhost:8080/",
          "height": 458
        },
        "execution": {
          "iopub.execute_input": "2025-02-20T22:56:04.056166Z",
          "iopub.status.busy": "2025-02-20T22:56:04.055920Z",
          "iopub.status.idle": "2025-02-20T22:57:19.936425Z",
          "shell.execute_reply": "2025-02-20T22:57:19.935594Z",
          "shell.execute_reply.started": "2025-02-20T22:56:04.056145Z"
        },
        "id": "AYXOsyk6Ge10",
        "outputId": "a837549c-0bb2-4aed-8bbd-e4f89c5a7ace",
        "trusted": true
      },
      "outputs": [
        {
          "output_type": "execute_result",
          "data": {
            "text/plain": [
              "0        great service easy find needed order superfast...\n",
              "1             quick process product arrived good condition\n",
              "2        kettle look great time using started leaking a...\n",
              "3               easy order quick dispatchexcellent service\n",
              "4        could use debit card payment kept telling paym...\n",
              "                               ...                        \n",
              "11995                    excellent service excellent phone\n",
              "11996      really great friendly professional staff always\n",
              "11997                                   got needed exactly\n",
              "11998    initially helpful month service keep dropping ...\n",
              "11999    easy select product good website efficient ser...\n",
              "Name: clean reviews, Length: 12000, dtype: object"
            ],
            "text/html": [
              "<div>\n",
              "<style scoped>\n",
              "    .dataframe tbody tr th:only-of-type {\n",
              "        vertical-align: middle;\n",
              "    }\n",
              "\n",
              "    .dataframe tbody tr th {\n",
              "        vertical-align: top;\n",
              "    }\n",
              "\n",
              "    .dataframe thead th {\n",
              "        text-align: right;\n",
              "    }\n",
              "</style>\n",
              "<table border=\"1\" class=\"dataframe\">\n",
              "  <thead>\n",
              "    <tr style=\"text-align: right;\">\n",
              "      <th></th>\n",
              "      <th>clean reviews</th>\n",
              "    </tr>\n",
              "  </thead>\n",
              "  <tbody>\n",
              "    <tr>\n",
              "      <th>0</th>\n",
              "      <td>great service easy find needed order superfast...</td>\n",
              "    </tr>\n",
              "    <tr>\n",
              "      <th>1</th>\n",
              "      <td>quick process product arrived good condition</td>\n",
              "    </tr>\n",
              "    <tr>\n",
              "      <th>2</th>\n",
              "      <td>kettle look great time using started leaking a...</td>\n",
              "    </tr>\n",
              "    <tr>\n",
              "      <th>3</th>\n",
              "      <td>easy order quick dispatchexcellent service</td>\n",
              "    </tr>\n",
              "    <tr>\n",
              "      <th>4</th>\n",
              "      <td>could use debit card payment kept telling paym...</td>\n",
              "    </tr>\n",
              "    <tr>\n",
              "      <th>...</th>\n",
              "      <td>...</td>\n",
              "    </tr>\n",
              "    <tr>\n",
              "      <th>11995</th>\n",
              "      <td>excellent service excellent phone</td>\n",
              "    </tr>\n",
              "    <tr>\n",
              "      <th>11996</th>\n",
              "      <td>really great friendly professional staff always</td>\n",
              "    </tr>\n",
              "    <tr>\n",
              "      <th>11997</th>\n",
              "      <td>got needed exactly</td>\n",
              "    </tr>\n",
              "    <tr>\n",
              "      <th>11998</th>\n",
              "      <td>initially helpful month service keep dropping ...</td>\n",
              "    </tr>\n",
              "    <tr>\n",
              "      <th>11999</th>\n",
              "      <td>easy select product good website efficient ser...</td>\n",
              "    </tr>\n",
              "  </tbody>\n",
              "</table>\n",
              "<p>12000 rows × 1 columns</p>\n",
              "</div><br><label><b>dtype:</b> object</label>"
            ]
          },
          "metadata": {},
          "execution_count": 9
        }
      ],
      "source": [
        "df_test[\"clean reviews\"] = df_test[\"Review\"].apply(preprocess_text)\n",
        "df_test[\"clean reviews\"]"
      ]
    },
    {
      "cell_type": "code",
      "execution_count": 10,
      "metadata": {
        "colab": {
          "base_uri": "https://localhost:8080/"
        },
        "execution": {
          "iopub.execute_input": "2025-02-20T21:57:44.438986Z",
          "iopub.status.busy": "2025-02-20T21:57:44.438650Z",
          "iopub.status.idle": "2025-02-20T21:57:44.826403Z",
          "shell.execute_reply": "2025-02-20T21:57:44.825459Z",
          "shell.execute_reply.started": "2025-02-20T21:57:44.438963Z"
        },
        "id": "yH_NOUrhGe11",
        "outputId": "20988184-2d12-4bb6-b100-bfb5332c6265",
        "trusted": true
      },
      "outputs": [
        {
          "output_type": "stream",
          "name": "stdout",
          "text": [
            "[('service', 22058), ('delivery', 13976), ('phone', 13798), ('day', 13527), ('time', 13041), ('customer', 12095), ('would', 11366), ('good', 9788), ('order', 8733), ('get', 8594), ('great', 8156), ('company', 8145), ('one', 6840), ('call', 6696), ('told', 6581), ('back', 6264), ('use', 6161), ('new', 6087), ('still', 5971), ('price', 5943)]\n"
          ]
        }
      ],
      "source": [
        "from collections import Counter\n",
        "\n",
        "# Tokenize words from all reviews\n",
        "all_words = \" \".join(df[\"clean reviews\"]).split()\n",
        "word_freq = Counter(all_words)\n",
        "\n",
        "# Show the 20 most common words\n",
        "print(word_freq.most_common(20))\n"
      ]
    },
    {
      "cell_type": "code",
      "execution_count": 11,
      "metadata": {
        "colab": {
          "base_uri": "https://localhost:8080/"
        },
        "execution": {
          "iopub.execute_input": "2025-02-20T21:57:46.230428Z",
          "iopub.status.busy": "2025-02-20T21:57:46.230100Z",
          "iopub.status.idle": "2025-02-20T21:57:49.890663Z",
          "shell.execute_reply": "2025-02-20T21:57:49.889605Z",
          "shell.execute_reply.started": "2025-02-20T21:57:46.230404Z"
        },
        "id": "_ylmtTS6Ge13",
        "outputId": "2a8199a7-bba9-4fd3-e493-6320e9aedaef",
        "trusted": true
      },
      "outputs": [
        {
          "output_type": "stream",
          "name": "stdout",
          "text": [
            "Collecting vaderSentiment\n",
            "  Downloading vaderSentiment-3.3.2-py2.py3-none-any.whl.metadata (572 bytes)\n",
            "Requirement already satisfied: requests in /usr/local/lib/python3.11/dist-packages (from vaderSentiment) (2.32.3)\n",
            "Requirement already satisfied: charset-normalizer<4,>=2 in /usr/local/lib/python3.11/dist-packages (from requests->vaderSentiment) (3.4.1)\n",
            "Requirement already satisfied: idna<4,>=2.5 in /usr/local/lib/python3.11/dist-packages (from requests->vaderSentiment) (3.10)\n",
            "Requirement already satisfied: urllib3<3,>=1.21.1 in /usr/local/lib/python3.11/dist-packages (from requests->vaderSentiment) (2.3.0)\n",
            "Requirement already satisfied: certifi>=2017.4.17 in /usr/local/lib/python3.11/dist-packages (from requests->vaderSentiment) (2025.1.31)\n",
            "Downloading vaderSentiment-3.3.2-py2.py3-none-any.whl (125 kB)\n",
            "\u001b[?25l   \u001b[90m━━━━━━━━━━━━━━━━━━━━━━━━━━━━━━━━━━━━━━━━\u001b[0m \u001b[32m0.0/126.0 kB\u001b[0m \u001b[31m?\u001b[0m eta \u001b[36m-:--:--\u001b[0m\r\u001b[2K   \u001b[91m━━━━━━━━━━━━━━━━━━━━━━━━━━━━━━━━━━━━━━━\u001b[0m\u001b[90m╺\u001b[0m \u001b[32m122.9/126.0 kB\u001b[0m \u001b[31m4.1 MB/s\u001b[0m eta \u001b[36m0:00:01\u001b[0m\r\u001b[2K   \u001b[90m━━━━━━━━━━━━━━━━━━━━━━━━━━━━━━━━━━━━━━━━\u001b[0m \u001b[32m126.0/126.0 kB\u001b[0m \u001b[31m2.6 MB/s\u001b[0m eta \u001b[36m0:00:00\u001b[0m\n",
            "\u001b[?25hInstalling collected packages: vaderSentiment\n",
            "Successfully installed vaderSentiment-3.3.2\n"
          ]
        }
      ],
      "source": [
        "pip install vaderSentiment"
      ]
    },
    {
      "cell_type": "code",
      "execution_count": 12,
      "metadata": {
        "colab": {
          "base_uri": "https://localhost:8080/"
        },
        "execution": {
          "iopub.execute_input": "2025-02-20T21:57:49.892611Z",
          "iopub.status.busy": "2025-02-20T21:57:49.892224Z",
          "iopub.status.idle": "2025-02-20T21:57:53.428504Z",
          "shell.execute_reply": "2025-02-20T21:57:53.427212Z",
          "shell.execute_reply.started": "2025-02-20T21:57:49.892584Z"
        },
        "id": "g1BNjkqGGe14",
        "outputId": "9c654694-cdb9-4ad7-8935-986aefac636d",
        "trusted": true
      },
      "outputs": [
        {
          "output_type": "stream",
          "name": "stdout",
          "text": [
            "Collecting Afinn\n",
            "  Downloading afinn-0.1.tar.gz (52 kB)\n",
            "\u001b[?25l     \u001b[90m━━━━━━━━━━━━━━━━━━━━━━━━━━━━━━━━━━━━━━━━\u001b[0m \u001b[32m0.0/52.6 kB\u001b[0m \u001b[31m?\u001b[0m eta \u001b[36m-:--:--\u001b[0m\r\u001b[2K     \u001b[90m━━━━━━━━━━━━━━━━━━━━━━━━━━━━━━━━━━━━━━━━\u001b[0m \u001b[32m52.6/52.6 kB\u001b[0m \u001b[31m2.1 MB/s\u001b[0m eta \u001b[36m0:00:00\u001b[0m\n",
            "\u001b[?25h  Preparing metadata (setup.py) ... \u001b[?25l\u001b[?25hdone\n",
            "Building wheels for collected packages: Afinn\n",
            "  Building wheel for Afinn (setup.py) ... \u001b[?25l\u001b[?25hdone\n",
            "  Created wheel for Afinn: filename=afinn-0.1-py3-none-any.whl size=53429 sha256=dbb561416f20e6ffbb9182f7a09bbc85928b314535f184807cc0327c558aed31\n",
            "  Stored in directory: /root/.cache/pip/wheels/ee/d3/a0/f9255ebac29886acb1c28b35b37523f6399677fa06be379f25\n",
            "Successfully built Afinn\n",
            "Installing collected packages: Afinn\n",
            "Successfully installed Afinn-0.1\n"
          ]
        }
      ],
      "source": [
        "pip install Afinn"
      ]
    },
    {
      "cell_type": "code",
      "execution_count": 13,
      "metadata": {
        "execution": {
          "iopub.execute_input": "2025-02-20T22:58:27.739769Z",
          "iopub.status.busy": "2025-02-20T22:58:27.739385Z",
          "iopub.status.idle": "2025-02-20T22:58:41.153730Z",
          "shell.execute_reply": "2025-02-20T22:58:41.152761Z",
          "shell.execute_reply.started": "2025-02-20T22:58:27.739740Z"
        },
        "id": "TZ9R3aWSGe15",
        "trusted": true
      },
      "outputs": [],
      "source": [
        "#VADER is a tool that provides a sentiment analysis by returning polarity scores\n",
        "# (positive, negative, neutral) along with a compound score for a given text\n",
        "from vaderSentiment.vaderSentiment import SentimentIntensityAnalyzer\n",
        "#train\n",
        "analyzer = SentimentIntensityAnalyzer()\n",
        "sentiment_scores = [analyzer.polarity_scores(doc) for doc in df[\"clean reviews\"]]\n",
        "sentiment_df = pd.DataFrame(sentiment_scores)\n",
        "df[\"sentiment_scores\"]=sentiment_df[\"compound\"]"
      ]
    },
    {
      "cell_type": "code",
      "execution_count": 14,
      "metadata": {
        "execution": {
          "iopub.execute_input": "2025-02-20T22:58:41.155539Z",
          "iopub.status.busy": "2025-02-20T22:58:41.155047Z",
          "iopub.status.idle": "2025-02-20T22:58:44.441650Z",
          "shell.execute_reply": "2025-02-20T22:58:44.440844Z",
          "shell.execute_reply.started": "2025-02-20T22:58:41.155475Z"
        },
        "id": "c-SndguHGe16",
        "trusted": true
      },
      "outputs": [],
      "source": [
        "#test\n",
        "from vaderSentiment.vaderSentiment import SentimentIntensityAnalyzer\n",
        "analyzer = SentimentIntensityAnalyzer()\n",
        "sentiment_scores = [analyzer.polarity_scores(doc) for doc in df_test[\"clean reviews\"]]\n",
        "sentiment_dft = pd.DataFrame(sentiment_scores)"
      ]
    },
    {
      "cell_type": "code",
      "execution_count": 15,
      "metadata": {
        "execution": {
          "iopub.execute_input": "2025-02-20T22:58:44.443218Z",
          "iopub.status.busy": "2025-02-20T22:58:44.443002Z",
          "iopub.status.idle": "2025-02-20T22:58:55.882418Z",
          "shell.execute_reply": "2025-02-20T22:58:55.881696Z",
          "shell.execute_reply.started": "2025-02-20T22:58:44.443199Z"
        },
        "id": "8JBJzF8UGe16",
        "trusted": true
      },
      "outputs": [],
      "source": [
        "#Apply TextBlob Sentiment Analysis\n",
        "#train\n",
        "from textblob import TextBlob\n",
        "\n",
        "df[\"textblob_polarity\"] = df[\"clean reviews\"].apply(lambda x: TextBlob(x).sentiment.polarity)\n",
        "textblob_df = df[[\"textblob_polarity\"]]"
      ]
    },
    {
      "cell_type": "code",
      "execution_count": 16,
      "metadata": {
        "execution": {
          "iopub.execute_input": "2025-02-20T22:58:55.883774Z",
          "iopub.status.busy": "2025-02-20T22:58:55.883473Z",
          "iopub.status.idle": "2025-02-20T22:58:58.809601Z",
          "shell.execute_reply": "2025-02-20T22:58:58.808381Z",
          "shell.execute_reply.started": "2025-02-20T22:58:55.883749Z"
        },
        "id": "pC1x873OGe17",
        "trusted": true
      },
      "outputs": [],
      "source": [
        "#test\n",
        "df_test[\"textblob_polarity\"] = df_test[\"clean reviews\"].apply(lambda x: TextBlob(x).sentiment.polarity)\n",
        "textblob_dft = df_test[[\"textblob_polarity\"]]"
      ]
    },
    {
      "cell_type": "code",
      "execution_count": 17,
      "metadata": {
        "execution": {
          "iopub.execute_input": "2025-02-20T22:58:58.811149Z",
          "iopub.status.busy": "2025-02-20T22:58:58.810782Z",
          "iopub.status.idle": "2025-02-20T22:59:50.082130Z",
          "shell.execute_reply": "2025-02-20T22:59:50.081037Z",
          "shell.execute_reply.started": "2025-02-20T22:58:58.811095Z"
        },
        "id": "B4xuIBXrGe19",
        "trusted": true
      },
      "outputs": [],
      "source": [
        "#train\n",
        "from afinn import Afinn\n",
        "afinn = Afinn()\n",
        "df[\"afinn_score\"] = df[\"clean reviews\"].apply(lambda x: afinn.score(x))\n",
        "df_test[\"afinn_score\"] = df_test[\"clean reviews\"].apply(lambda x: afinn.score(x))"
      ]
    },
    {
      "cell_type": "code",
      "execution_count": 18,
      "metadata": {
        "execution": {
          "iopub.execute_input": "2025-02-20T22:59:50.083321Z",
          "iopub.status.busy": "2025-02-20T22:59:50.083097Z",
          "iopub.status.idle": "2025-02-20T22:59:50.233415Z",
          "shell.execute_reply": "2025-02-20T22:59:50.232546Z",
          "shell.execute_reply.started": "2025-02-20T22:59:50.083301Z"
        },
        "id": "tw1bPjLhGe19",
        "trusted": true
      },
      "outputs": [],
      "source": [
        "#getting the word count and char count beacause it helps in identifying reviews\n",
        "df[\"word_count\"] = df[\"clean reviews\"].apply(lambda x: len(x.split()))\n",
        "df[\"char_count\"] = df[\"clean reviews\"].apply(lambda x: len(x))\n",
        "\n",
        "df_test[\"word_count\"] = df_test[\"clean reviews\"].apply(lambda x: len(x.split()))\n",
        "df_test[\"char_count\"] = df_test[\"clean reviews\"].apply(lambda x: len(x))"
      ]
    },
    {
      "cell_type": "code",
      "execution_count": 19,
      "metadata": {
        "colab": {
          "base_uri": "https://localhost:8080/"
        },
        "execution": {
          "iopub.execute_input": "2025-02-20T23:00:35.229656Z",
          "iopub.status.busy": "2025-02-20T23:00:35.229128Z",
          "iopub.status.idle": "2025-02-20T23:00:35.245876Z",
          "shell.execute_reply": "2025-02-20T23:00:35.244969Z",
          "shell.execute_reply.started": "2025-02-20T23:00:35.229615Z"
        },
        "id": "IYmEv_WHGe1_",
        "outputId": "81419e84-9f02-49f9-ce4f-8ec289579538",
        "trusted": true
      },
      "outputs": [
        {
          "output_type": "stream",
          "name": "stdout",
          "text": [
            "textblob_polarity    0.650847\n",
            "afinn_score          0.510075\n",
            "word_count          -0.472339\n",
            "char_count          -0.464887\n",
            "sentiment_scores     0.654366\n",
            "Rating               1.000000\n",
            "Name: Rating, dtype: float64\n"
          ]
        }
      ],
      "source": [
        "# Compute correlations between sentiment scores and rating\n",
        "correlation_matrix = df[[\"textblob_polarity\",\n",
        "                         \"afinn_score\",\"word_count\",\"char_count\",\n",
        "                         \"sentiment_scores\",'Rating']].corr()[\"Rating\"]\n",
        "print(correlation_matrix)\n"
      ]
    },
    {
      "cell_type": "markdown",
      "metadata": {
        "id": "qCwQm45HGe2A"
      },
      "source": [
        "### Tf idf"
      ]
    },
    {
      "cell_type": "code",
      "execution_count": 20,
      "metadata": {
        "execution": {
          "iopub.execute_input": "2025-02-20T22:14:20.891742Z",
          "iopub.status.busy": "2025-02-20T22:14:20.891343Z",
          "iopub.status.idle": "2025-02-20T22:14:24.924234Z",
          "shell.execute_reply": "2025-02-20T22:14:24.923411Z",
          "shell.execute_reply.started": "2025-02-20T22:14:20.891714Z"
        },
        "id": "U_0e3Ao5Ge2B",
        "trusted": true
      },
      "outputs": [],
      "source": [
        "#used Tf Idf to convert text into numerical format\n",
        "from sklearn.feature_extraction.text import TfidfVectorizer\n",
        "vectorizer = TfidfVectorizer(ngram_range=(1,3),stop_words='english',min_df=2,max_df=0.9,sublinear_tf=True)\n",
        "X_tfidf = vectorizer.fit_transform(df[\"clean reviews\"])"
      ]
    },
    {
      "cell_type": "code",
      "execution_count": 21,
      "metadata": {
        "execution": {
          "iopub.execute_input": "2025-02-20T22:14:24.925740Z",
          "iopub.status.busy": "2025-02-20T22:14:24.925391Z",
          "iopub.status.idle": "2025-02-20T22:14:25.984369Z",
          "shell.execute_reply": "2025-02-20T22:14:25.983672Z",
          "shell.execute_reply.started": "2025-02-20T22:14:24.925708Z"
        },
        "id": "J5MuV9SHGe2B",
        "trusted": true
      },
      "outputs": [],
      "source": [
        "from sklearn.feature_extraction.text import TfidfVectorizer\n",
        "vectorizer = TfidfVectorizer(ngram_range=(1,3),stop_words='english',min_df=2,max_df=0.9,sublinear_tf=True)\n",
        "X_tfidft = vectorizer.fit_transform(df_test[\"clean reviews\"])"
      ]
    },
    {
      "cell_type": "code",
      "execution_count": 22,
      "metadata": {
        "colab": {
          "base_uri": "https://localhost:8080/"
        },
        "execution": {
          "iopub.execute_input": "2025-02-20T22:14:28.723324Z",
          "iopub.status.busy": "2025-02-20T22:14:28.722988Z",
          "iopub.status.idle": "2025-02-20T22:16:51.333613Z",
          "shell.execute_reply": "2025-02-20T22:16:51.332429Z",
          "shell.execute_reply.started": "2025-02-20T22:14:28.723300Z"
        },
        "id": "EvJlhef9Ge2C",
        "outputId": "89bb56fd-8135-4e02-91d3-9a9a63f196e6",
        "trusted": true
      },
      "outputs": [
        {
          "output_type": "stream",
          "name": "stdout",
          "text": [
            "(48000, 1000)\n"
          ]
        }
      ],
      "source": [
        "from sklearn.decomposition import TruncatedSVD\n",
        "\n",
        "# Apply Truncated SVD to make the dimension less and make training faster\n",
        "svd = TruncatedSVD(n_components=1000)\n",
        "X_reduced = svd.fit_transform(X_tfidf)\n",
        "\n",
        "print(X_reduced.shape)\n"
      ]
    },
    {
      "cell_type": "code",
      "execution_count": 23,
      "metadata": {
        "colab": {
          "base_uri": "https://localhost:8080/"
        },
        "execution": {
          "iopub.execute_input": "2025-02-20T22:16:51.335824Z",
          "iopub.status.busy": "2025-02-20T22:16:51.335099Z",
          "iopub.status.idle": "2025-02-20T22:17:33.776360Z",
          "shell.execute_reply": "2025-02-20T22:17:33.775526Z",
          "shell.execute_reply.started": "2025-02-20T22:16:51.335795Z"
        },
        "id": "LqLS_atGGe2D",
        "outputId": "92309260-89e7-45f0-ded0-5fc86f92526a",
        "trusted": true
      },
      "outputs": [
        {
          "output_type": "stream",
          "name": "stdout",
          "text": [
            "(12000, 1000)\n"
          ]
        }
      ],
      "source": [
        "X_reducedt = svd.fit_transform(X_tfidft)\n",
        "\n",
        "print(X_reducedt.shape)"
      ]
    },
    {
      "cell_type": "code",
      "execution_count": 24,
      "metadata": {
        "execution": {
          "iopub.execute_input": "2025-02-20T23:06:34.342593Z",
          "iopub.status.busy": "2025-02-20T23:06:34.342231Z",
          "iopub.status.idle": "2025-02-20T23:06:34.349217Z",
          "shell.execute_reply": "2025-02-20T23:06:34.347949Z",
          "shell.execute_reply.started": "2025-02-20T23:06:34.342564Z"
        },
        "id": "Vn1Bw3FrGe2D",
        "trusted": true
      },
      "outputs": [],
      "source": [
        "X_reduced_df = pd.DataFrame(X_reduced, columns=[f'component_{i+1}' for i in range(X_reduced.shape[1])])\n",
        "X_reduced_dft = pd.DataFrame(X_reducedt, columns=[f'component_{i+1}' for i in range(X_reducedt.shape[1])])"
      ]
    },
    {
      "cell_type": "markdown",
      "metadata": {
        "id": "IV_kIwKtSMeT"
      },
      "source": [
        "LDA"
      ]
    },
    {
      "cell_type": "code",
      "execution_count": 25,
      "metadata": {
        "id": "Giqzo9m3SsDZ"
      },
      "outputs": [],
      "source": [
        "#to help with cluster by getting topics similarity\n",
        "from sklearn.decomposition import LatentDirichletAllocation\n",
        "\n",
        "lda = LatentDirichletAllocation(n_components=2, random_state=42)\n",
        "lda_topics = lda.fit_transform(X_tfidf)"
      ]
    },
    {
      "cell_type": "code",
      "execution_count": 26,
      "metadata": {
        "id": "Mors9q5qT-FJ"
      },
      "outputs": [],
      "source": [
        "lda_topicst = lda.fit_transform(X_tfidft)\n",
        "lda_df = pd.DataFrame(lda_topics, columns=[f\"topic_{i+1}\" for i in range(lda_topics.shape[1])])\n",
        "lda_dft = pd.DataFrame(lda_topicst, columns=[f\"topic_{i+1}\" for i in range(lda_topicst.shape[1])])"
      ]
    },
    {
      "cell_type": "code",
      "execution_count": 27,
      "metadata": {
        "execution": {
          "iopub.execute_input": "2025-02-20T23:27:57.201726Z",
          "iopub.status.busy": "2025-02-20T23:27:57.201365Z",
          "iopub.status.idle": "2025-02-20T23:27:57.632342Z",
          "shell.execute_reply": "2025-02-20T23:27:57.631585Z",
          "shell.execute_reply.started": "2025-02-20T23:27:57.201696Z"
        },
        "id": "I1DwhP0OGe2E",
        "trusted": true
      },
      "outputs": [],
      "source": [
        "X =  pd.concat([X_reduced_df,sentiment_df,textblob_df,df[\"afinn_score\"],\n",
        "               df[\"word_count\"],df[\"char_count\"],lda_df], axis=1)\n",
        "y= df[\"Rating\"]"
      ]
    },
    {
      "cell_type": "code",
      "execution_count": 28,
      "metadata": {
        "execution": {
          "iopub.execute_input": "2025-02-20T23:32:42.440145Z",
          "iopub.status.busy": "2025-02-20T23:32:42.439814Z",
          "iopub.status.idle": "2025-02-20T23:32:42.528906Z",
          "shell.execute_reply": "2025-02-20T23:32:42.527764Z",
          "shell.execute_reply.started": "2025-02-20T23:32:42.440120Z"
        },
        "id": "CJdeIFFRGe2E",
        "trusted": true
      },
      "outputs": [],
      "source": [
        "Xt =  pd.concat([X_reduced_dft,sentiment_dft,textblob_dft,df_test[\"afinn_score\"],\n",
        "               df_test[\"word_count\"],df_test[\"char_count\"],lda_dft] ,axis=1)"
      ]
    },
    {
      "cell_type": "code",
      "execution_count": 29,
      "metadata": {
        "execution": {
          "iopub.execute_input": "2025-02-20T23:06:51.645256Z",
          "iopub.status.busy": "2025-02-20T23:06:51.644932Z",
          "iopub.status.idle": "2025-02-20T23:06:51.782271Z",
          "shell.execute_reply": "2025-02-20T23:06:51.781541Z",
          "shell.execute_reply.started": "2025-02-20T23:06:51.645231Z"
        },
        "id": "YJJ2AIqzGe2F",
        "trusted": true
      },
      "outputs": [],
      "source": [
        "from sklearn.model_selection import train_test_split\n",
        "X_train, X_test, y_train, y_test = train_test_split(X, y, stratify=y, test_size=0.01, random_state=42)"
      ]
    },
    {
      "cell_type": "code",
      "execution_count": 30,
      "metadata": {
        "colab": {
          "base_uri": "https://localhost:8080/"
        },
        "execution": {
          "iopub.execute_input": "2025-02-20T23:01:16.460011Z",
          "iopub.status.busy": "2025-02-20T23:01:16.459692Z",
          "iopub.status.idle": "2025-02-20T23:01:16.471894Z",
          "shell.execute_reply": "2025-02-20T23:01:16.471008Z",
          "shell.execute_reply.started": "2025-02-20T23:01:16.459990Z"
        },
        "id": "-ipnGMAPGe2F",
        "outputId": "edf9065e-533c-403e-bff8-ffc15ccb5f99",
        "trusted": true
      },
      "outputs": [
        {
          "output_type": "execute_result",
          "data": {
            "text/plain": [
              "Counter({3: 30198, 1: 15986, 2: 1336})"
            ]
          },
          "metadata": {},
          "execution_count": 30
        }
      ],
      "source": [
        "Counter(y_train)"
      ]
    },
    {
      "cell_type": "code",
      "execution_count": 31,
      "metadata": {
        "colab": {
          "base_uri": "https://localhost:8080/"
        },
        "execution": {
          "iopub.execute_input": "2025-02-21T00:00:49.704331Z",
          "iopub.status.busy": "2025-02-21T00:00:49.703979Z",
          "iopub.status.idle": "2025-02-21T00:00:50.240506Z",
          "shell.execute_reply": "2025-02-21T00:00:50.239599Z",
          "shell.execute_reply.started": "2025-02-21T00:00:49.704301Z"
        },
        "id": "koBMQRwvGe2G",
        "outputId": "09636382-45d1-4e1a-e5bf-48317cd0ed54",
        "trusted": true
      },
      "outputs": [
        {
          "output_type": "execute_result",
          "data": {
            "text/plain": [
              "Counter({3: 30198, 1: 15986, 2: 3000})"
            ]
          },
          "metadata": {},
          "execution_count": 31
        }
      ],
      "source": [
        "#applying oversampling using smote fore calss 2 whic is the less represented\n",
        "from imblearn.over_sampling import SMOTE\n",
        "\n",
        "smote = SMOTE(sampling_strategy={2:3000}, random_state=42)\n",
        "X_resampled, y_resampled = smote.fit_resample(X_train, y_train)\n",
        "Counter(y_resampled)"
      ]
    },
    {
      "cell_type": "code",
      "execution_count": 32,
      "metadata": {
        "colab": {
          "base_uri": "https://localhost:8080/"
        },
        "execution": {
          "iopub.execute_input": "2025-02-21T00:00:52.416177Z",
          "iopub.status.busy": "2025-02-21T00:00:52.415833Z",
          "iopub.status.idle": "2025-02-21T00:01:29.113346Z",
          "shell.execute_reply": "2025-02-21T00:01:29.112473Z",
          "shell.execute_reply.started": "2025-02-21T00:00:52.416151Z"
        },
        "id": "k0UPEPXIGe2H",
        "outputId": "319addcb-2694-4819-bf7a-20a7f8237015",
        "trusted": true
      },
      "outputs": [
        {
          "output_type": "execute_result",
          "data": {
            "text/plain": [
              "Counter({3: 25669, 1: 11850, 2: 978})"
            ]
          },
          "metadata": {},
          "execution_count": 32
        }
      ],
      "source": [
        "#undersampling using NeighbourhoodCleaningRule\n",
        "from imblearn.under_sampling import NeighbourhoodCleaningRule\n",
        "\n",
        "ncr = NeighbourhoodCleaningRule(sampling_strategy=\"all\",n_neighbors=5,threshold_cleaning=0.35)\n",
        "X_resampled, y_resampled = ncr.fit_resample(X_resampled, y_resampled)\n",
        "Counter(y_resampled)"
      ]
    },
    {
      "cell_type": "code",
      "execution_count": 33,
      "metadata": {
        "execution": {
          "iopub.execute_input": "2025-02-21T00:01:33.116944Z",
          "iopub.status.busy": "2025-02-21T00:01:33.116574Z",
          "iopub.status.idle": "2025-02-21T00:01:33.541831Z",
          "shell.execute_reply": "2025-02-21T00:01:33.540712Z",
          "shell.execute_reply.started": "2025-02-21T00:01:33.116914Z"
        },
        "id": "VV0MyItNGe2H",
        "trusted": true
      },
      "outputs": [],
      "source": [
        "#Using Scaling beacause we are using K means which relies on distance\n",
        "from sklearn.preprocessing import StandardScaler\n",
        "\n",
        "scaler = StandardScaler()\n",
        "scaled_features = scaler.fit_transform(X_resampled)"
      ]
    },
    {
      "cell_type": "code",
      "execution_count": 34,
      "metadata": {
        "colab": {
          "base_uri": "https://localhost:8080/"
        },
        "execution": {
          "iopub.execute_input": "2025-02-21T00:01:36.343422Z",
          "iopub.status.busy": "2025-02-21T00:01:36.343063Z",
          "iopub.status.idle": "2025-02-21T00:01:40.238713Z",
          "shell.execute_reply": "2025-02-21T00:01:40.237691Z",
          "shell.execute_reply.started": "2025-02-21T00:01:36.343389Z"
        },
        "id": "IlIjkoccGe2I",
        "outputId": "2f876948-90bc-42c5-a129-c6f6042a9a06",
        "trusted": true
      },
      "outputs": [
        {
          "output_type": "execute_result",
          "data": {
            "text/plain": [
              "Counter({np.int32(2): 24911, np.int32(1): 13389, np.int32(0): 197})"
            ]
          },
          "metadata": {},
          "execution_count": 34
        }
      ],
      "source": [
        "kmeans = KMeans(n_clusters=3, random_state=42,max_iter=300)\n",
        "cluster_labels = kmeans.fit_predict(scaled_features)\n",
        "Counter(cluster_labels)"
      ]
    },
    {
      "cell_type": "code",
      "execution_count": 35,
      "metadata": {
        "colab": {
          "base_uri": "https://localhost:8080/",
          "height": 718
        },
        "execution": {
          "iopub.execute_input": "2025-02-21T00:01:48.501826Z",
          "iopub.status.busy": "2025-02-21T00:01:48.501426Z",
          "iopub.status.idle": "2025-02-21T00:01:50.113928Z",
          "shell.execute_reply": "2025-02-21T00:01:50.112928Z",
          "shell.execute_reply.started": "2025-02-21T00:01:48.501798Z"
        },
        "id": "paBzcXFeGe2L",
        "outputId": "fecdc8bc-027c-4107-b3a3-d54e21901f23",
        "trusted": true
      },
      "outputs": [
        {
          "output_type": "display_data",
          "data": {
            "text/plain": [
              "<Figure size 1000x800 with 2 Axes>"
            ],
            "image/png": "[encoded data removed]"
          },
          "metadata": {}
        }
      ],
      "source": [
        "import matplotlib.pyplot as plt\n",
        "from sklearn.decomposition import PCA\n",
        "from sklearn.cluster import KMeans\n",
        "\n",
        "pca = PCA(n_components=2)\n",
        "X_reduced_pca = pca.fit_transform(scaled_features)\n",
        "\n",
        "plt.figure(figsize=(10, 8))\n",
        "plt.scatter(X_reduced_pca[:, 0], X_reduced_pca[:, 1], c=cluster_labels, cmap='viridis', marker='o', edgecolor='k', s=100)\n",
        "plt.title('KMeans Clustering - PCA Reduction')\n",
        "plt.xlabel('PCA Component 1')\n",
        "plt.ylabel('PCA Component 2')\n",
        "plt.colorbar(label='Cluster Label')\n",
        "plt.show()\n"
      ]
    },
    {
      "cell_type": "code",
      "execution_count": 36,
      "metadata": {
        "colab": {
          "base_uri": "https://localhost:8080/",
          "height": 423
        },
        "execution": {
          "iopub.execute_input": "2025-02-21T00:01:53.954612Z",
          "iopub.status.busy": "2025-02-21T00:01:53.954228Z",
          "iopub.status.idle": "2025-02-21T00:01:53.965760Z",
          "shell.execute_reply": "2025-02-21T00:01:53.964918Z",
          "shell.execute_reply.started": "2025-02-21T00:01:53.954582Z"
        },
        "id": "YJN0AWqPGe2M",
        "outputId": "f2897431-1706-478f-f60e-7ec4db695067",
        "trusted": true
      },
      "outputs": [
        {
          "output_type": "execute_result",
          "data": {
            "text/plain": [
              "       Rating  cluster\n",
              "0           3        2\n",
              "1           1        1\n",
              "2           3        2\n",
              "3           3        2\n",
              "4           3        2\n",
              "...       ...      ...\n",
              "38492       2        1\n",
              "38493       2        1\n",
              "38494       2        1\n",
              "38495       2        1\n",
              "38496       2        2\n",
              "\n",
              "[38497 rows x 2 columns]"
            ],
            "text/html": [
              "\n",
              "  <div id=\"df-bf45294d-8b7b-4eb8-8198-8f1ae7fc17da\" class=\"colab-df-container\">\n",
              "    <div>\n",
              "<style scoped>\n",
              "    .dataframe tbody tr th:only-of-type {\n",
              "        vertical-align: middle;\n",
              "    }\n",
              "\n",
              "    .dataframe tbody tr th {\n",
              "        vertical-align: top;\n",
              "    }\n",
              "\n",
              "    .dataframe thead th {\n",
              "        text-align: right;\n",
              "    }\n",
              "</style>\n",
              "<table border=\"1\" class=\"dataframe\">\n",
              "  <thead>\n",
              "    <tr style=\"text-align: right;\">\n",
              "      <th></th>\n",
              "      <th>Rating</th>\n",
              "      <th>cluster</th>\n",
              "    </tr>\n",
              "  </thead>\n",
              "  <tbody>\n",
              "    <tr>\n",
              "      <th>0</th>\n",
              "      <td>3</td>\n",
              "      <td>2</td>\n",
              "    </tr>\n",
              "    <tr>\n",
              "      <th>1</th>\n",
              "      <td>1</td>\n",
              "      <td>1</td>\n",
              "    </tr>\n",
              "    <tr>\n",
              "      <th>2</th>\n",
              "      <td>3</td>\n",
              "      <td>2</td>\n",
              "    </tr>\n",
              "    <tr>\n",
              "      <th>3</th>\n",
              "      <td>3</td>\n",
              "      <td>2</td>\n",
              "    </tr>\n",
              "    <tr>\n",
              "      <th>4</th>\n",
              "      <td>3</td>\n",
              "      <td>2</td>\n",
              "    </tr>\n",
              "    <tr>\n",
              "      <th>...</th>\n",
              "      <td>...</td>\n",
              "      <td>...</td>\n",
              "    </tr>\n",
              "    <tr>\n",
              "      <th>38492</th>\n",
              "      <td>2</td>\n",
              "      <td>1</td>\n",
              "    </tr>\n",
              "    <tr>\n",
              "      <th>38493</th>\n",
              "      <td>2</td>\n",
              "      <td>1</td>\n",
              "    </tr>\n",
              "    <tr>\n",
              "      <th>38494</th>\n",
              "      <td>2</td>\n",
              "      <td>1</td>\n",
              "    </tr>\n",
              "    <tr>\n",
              "      <th>38495</th>\n",
              "      <td>2</td>\n",
              "      <td>1</td>\n",
              "    </tr>\n",
              "    <tr>\n",
              "      <th>38496</th>\n",
              "      <td>2</td>\n",
              "      <td>2</td>\n",
              "    </tr>\n",
              "  </tbody>\n",
              "</table>\n",
              "<p>38497 rows × 2 columns</p>\n",
              "</div>\n",
              "    <div class=\"colab-df-buttons\">\n",
              "\n",
              "  <div class=\"colab-df-container\">\n",
              "    <button class=\"colab-df-convert\" onclick=\"convertToInteractive('df-bf45294d-8b7b-4eb8-8198-8f1ae7fc17da')\"\n",
              "            title=\"Convert this dataframe to an interactive table.\"\n",
              "            style=\"display:none;\">\n",
              "\n",
              "  <svg xmlns=\"http://www.w3.org/2000/svg\" height=\"24px\" viewBox=\"0 -960 960 960\">\n",
              "    <path d=\"M120-120v-720h720v720H120Zm60-500h600v-160H180v160Zm220 220h160v-160H400v160Zm0 220h160v-160H400v160ZM180-400h160v-160H180v160Zm440 0h160v-160H620v160ZM180-180h160v-160H180v160Zm440 0h160v-160H620v160Z\"/>\n",
              "  </svg>\n",
              "    </button>\n",
              "\n",
              "  <style>\n",
              "    .colab-df-container {\n",
              "      display:flex;\n",
              "      gap: 12px;\n",
              "    }\n",
              "\n",
              "    .colab-df-convert {\n",
              "      background-color: #E8F0FE;\n",
              "      border: none;\n",
              "      border-radius: 50%;\n",
              "      cursor: pointer;\n",
              "      display: none;\n",
              "      fill: #1967D2;\n",
              "      height: 32px;\n",
              "      padding: 0 0 0 0;\n",
              "      width: 32px;\n",
              "    }\n",
              "\n",
              "    .colab-df-convert:hover {\n",
              "      background-color: #E2EBFA;\n",
              "      box-shadow: 0px 1px 2px rgba(60, 64, 67, 0.3), 0px 1px 3px 1px rgba(60, 64, 67, 0.15);\n",
              "      fill: #174EA6;\n",
              "    }\n",
              "\n",
              "    .colab-df-buttons div {\n",
              "      margin-bottom: 4px;\n",
              "    }\n",
              "\n",
              "    [theme=dark] .colab-df-convert {\n",
              "      background-color: #3B4455;\n",
              "      fill: #D2E3FC;\n",
              "    }\n",
              "\n",
              "    [theme=dark] .colab-df-convert:hover {\n",
              "      background-color: #434B5C;\n",
              "      box-shadow: 0px 1px 3px 1px rgba(0, 0, 0, 0.15);\n",
              "      filter: drop-shadow(0px 1px 2px rgba(0, 0, 0, 0.3));\n",
              "      fill: #FFFFFF;\n",
              "    }\n",
              "  </style>\n",
              "\n",
              "    <script>\n",
              "      const buttonEl =\n",
              "        document.querySelector('#df-bf45294d-8b7b-4eb8-8198-8f1ae7fc17da button.colab-df-convert');\n",
              "      buttonEl.style.display =\n",
              "        google.colab.kernel.accessAllowed ? 'block' : 'none';\n",
              "\n",
              "      async function convertToInteractive(key) {\n",
              "        const element = document.querySelector('#df-bf45294d-8b7b-4eb8-8198-8f1ae7fc17da');\n",
              "        const dataTable =\n",
              "          await google.colab.kernel.invokeFunction('convertToInteractive',\n",
              "                                                    [key], {});\n",
              "        if (!dataTable) return;\n",
              "\n",
              "        const docLinkHtml = 'Like what you see? Visit the ' +\n",
              "          '<a target=\"_blank\" href=https://colab.research.google.com/notebooks/data_table.ipynb>data table notebook</a>'\n",
              "          + ' to learn more about interactive tables.';\n",
              "        element.innerHTML = '';\n",
              "        dataTable['output_type'] = 'display_data';\n",
              "        await google.colab.output.renderOutput(dataTable, element);\n",
              "        const docLink = document.createElement('div');\n",
              "        docLink.innerHTML = docLinkHtml;\n",
              "        element.appendChild(docLink);\n",
              "      }\n",
              "    </script>\n",
              "  </div>\n",
              "\n",
              "\n",
              "<div id=\"df-f2c64483-c7d5-4809-9cef-2d4685d0248a\">\n",
              "  <button class=\"colab-df-quickchart\" onclick=\"quickchart('df-f2c64483-c7d5-4809-9cef-2d4685d0248a')\"\n",
              "            title=\"Suggest charts\"\n",
              "            style=\"display:none;\">\n",
              "\n",
              "<svg xmlns=\"http://www.w3.org/2000/svg\" height=\"24px\"viewBox=\"0 0 24 24\"\n",
              "     width=\"24px\">\n",
              "    <g>\n",
              "        <path d=\"M19 3H5c-1.1 0-2 .9-2 2v14c0 1.1.9 2 2 2h14c1.1 0 2-.9 2-2V5c0-1.1-.9-2-2-2zM9 17H7v-7h2v7zm4 0h-2V7h2v10zm4 0h-2v-4h2v4z\"/>\n",
              "    </g>\n",
              "</svg>\n",
              "  </button>\n",
              "\n",
              "<style>\n",
              "  .colab-df-quickchart {\n",
              "      --bg-color: #E8F0FE;\n",
              "      --fill-color: #1967D2;\n",
              "      --hover-bg-color: #E2EBFA;\n",
              "      --hover-fill-color: #174EA6;\n",
              "      --disabled-fill-color: #AAA;\n",
              "      --disabled-bg-color: #DDD;\n",
              "  }\n",
              "\n",
              "  [theme=dark] .colab-df-quickchart {\n",
              "      --bg-color: #3B4455;\n",
              "      --fill-color: #D2E3FC;\n",
              "      --hover-bg-color: #434B5C;\n",
              "      --hover-fill-color: #FFFFFF;\n",
              "      --disabled-bg-color: #3B4455;\n",
              "      --disabled-fill-color: #666;\n",
              "  }\n",
              "\n",
              "  .colab-df-quickchart {\n",
              "    background-color: var(--bg-color);\n",
              "    border: none;\n",
              "    border-radius: 50%;\n",
              "    cursor: pointer;\n",
              "    display: none;\n",
              "    fill: var(--fill-color);\n",
              "    height: 32px;\n",
              "    padding: 0;\n",
              "    width: 32px;\n",
              "  }\n",
              "\n",
              "  .colab-df-quickchart:hover {\n",
              "    background-color: var(--hover-bg-color);\n",
              "    box-shadow: 0 1px 2px rgba(60, 64, 67, 0.3), 0 1px 3px 1px rgba(60, 64, 67, 0.15);\n",
              "    fill: var(--button-hover-fill-color);\n",
              "  }\n",
              "\n",
              "  .colab-df-quickchart-complete:disabled,\n",
              "  .colab-df-quickchart-complete:disabled:hover {\n",
              "    background-color: var(--disabled-bg-color);\n",
              "    fill: var(--disabled-fill-color);\n",
              "    box-shadow: none;\n",
              "  }\n",
              "\n",
              "  .colab-df-spinner {\n",
              "    border: 2px solid var(--fill-color);\n",
              "    border-color: transparent;\n",
              "    border-bottom-color: var(--fill-color);\n",
              "    animation:\n",
              "      spin 1s steps(1) infinite;\n",
              "  }\n",
              "\n",
              "  @keyframes spin {\n",
              "    0% {\n",
              "      border-color: transparent;\n",
              "      border-bottom-color: var(--fill-color);\n",
              "      border-left-color: var(--fill-color);\n",
              "    }\n",
              "    20% {\n",
              "      border-color: transparent;\n",
              "      border-left-color: var(--fill-color);\n",
              "      border-top-color: var(--fill-color);\n",
              "    }\n",
              "    30% {\n",
              "      border-color: transparent;\n",
              "      border-left-color: var(--fill-color);\n",
              "      border-top-color: var(--fill-color);\n",
              "      border-right-color: var(--fill-color);\n",
              "    }\n",
              "    40% {\n",
              "      border-color: transparent;\n",
              "      border-right-color: var(--fill-color);\n",
              "      border-top-color: var(--fill-color);\n",
              "    }\n",
              "    60% {\n",
              "      border-color: transparent;\n",
              "      border-right-color: var(--fill-color);\n",
              "    }\n",
              "    80% {\n",
              "      border-color: transparent;\n",
              "      border-right-color: var(--fill-color);\n",
              "      border-bottom-color: var(--fill-color);\n",
              "    }\n",
              "    90% {\n",
              "      border-color: transparent;\n",
              "      border-bottom-color: var(--fill-color);\n",
              "    }\n",
              "  }\n",
              "</style>\n",
              "\n",
              "  <script>\n",
              "    async function quickchart(key) {\n",
              "      const quickchartButtonEl =\n",
              "        document.querySelector('#' + key + ' button');\n",
              "      quickchartButtonEl.disabled = true;  // To prevent multiple clicks.\n",
              "      quickchartButtonEl.classList.add('colab-df-spinner');\n",
              "      try {\n",
              "        const charts = await google.colab.kernel.invokeFunction(\n",
              "            'suggestCharts', [key], {});\n",
              "      } catch (error) {\n",
              "        console.error('Error during call to suggestCharts:', error);\n",
              "      }\n",
              "      quickchartButtonEl.classList.remove('colab-df-spinner');\n",
              "      quickchartButtonEl.classList.add('colab-df-quickchart-complete');\n",
              "    }\n",
              "    (() => {\n",
              "      let quickchartButtonEl =\n",
              "        document.querySelector('#df-f2c64483-c7d5-4809-9cef-2d4685d0248a button');\n",
              "      quickchartButtonEl.style.display =\n",
              "        google.colab.kernel.accessAllowed ? 'block' : 'none';\n",
              "    })();\n",
              "  </script>\n",
              "</div>\n",
              "\n",
              "  <div id=\"id_4158d63c-abd6-42d3-95e9-8140ba95ae67\">\n",
              "    <style>\n",
              "      .colab-df-generate {\n",
              "        background-color: #E8F0FE;\n",
              "        border: none;\n",
              "        border-radius: 50%;\n",
              "        cursor: pointer;\n",
              "        display: none;\n",
              "        fill: #1967D2;\n",
              "        height: 32px;\n",
              "        padding: 0 0 0 0;\n",
              "        width: 32px;\n",
              "      }\n",
              "\n",
              "      .colab-df-generate:hover {\n",
              "        background-color: #E2EBFA;\n",
              "        box-shadow: 0px 1px 2px rgba(60, 64, 67, 0.3), 0px 1px 3px 1px rgba(60, 64, 67, 0.15);\n",
              "        fill: #174EA6;\n",
              "      }\n",
              "\n",
              "      [theme=dark] .colab-df-generate {\n",
              "        background-color: #3B4455;\n",
              "        fill: #D2E3FC;\n",
              "      }\n",
              "\n",
              "      [theme=dark] .colab-df-generate:hover {\n",
              "        background-color: #434B5C;\n",
              "        box-shadow: 0px 1px 3px 1px rgba(0, 0, 0, 0.15);\n",
              "        filter: drop-shadow(0px 1px 2px rgba(0, 0, 0, 0.3));\n",
              "        fill: #FFFFFF;\n",
              "      }\n",
              "    </style>\n",
              "    <button class=\"colab-df-generate\" onclick=\"generateWithVariable('df_ready')\"\n",
              "            title=\"Generate code using this dataframe.\"\n",
              "            style=\"display:none;\">\n",
              "\n",
              "  <svg xmlns=\"http://www.w3.org/2000/svg\" height=\"24px\"viewBox=\"0 0 24 24\"\n",
              "       width=\"24px\">\n",
              "    <path d=\"M7,19H8.4L18.45,9,17,7.55,7,17.6ZM5,21V16.75L18.45,3.32a2,2,0,0,1,2.83,0l1.4,1.43a1.91,1.91,0,0,1,.58,1.4,1.91,1.91,0,0,1-.58,1.4L9.25,21ZM18.45,9,17,7.55Zm-12,3A5.31,5.31,0,0,0,4.9,8.1,5.31,5.31,0,0,0,1,6.5,5.31,5.31,0,0,0,4.9,4.9,5.31,5.31,0,0,0,6.5,1,5.31,5.31,0,0,0,8.1,4.9,5.31,5.31,0,0,0,12,6.5,5.46,5.46,0,0,0,6.5,12Z\"/>\n",
              "  </svg>\n",
              "    </button>\n",
              "    <script>\n",
              "      (() => {\n",
              "      const buttonEl =\n",
              "        document.querySelector('#id_4158d63c-abd6-42d3-95e9-8140ba95ae67 button.colab-df-generate');\n",
              "      buttonEl.style.display =\n",
              "        google.colab.kernel.accessAllowed ? 'block' : 'none';\n",
              "\n",
              "      buttonEl.onclick = () => {\n",
              "        google.colab.notebook.generateWithVariable('df_ready');\n",
              "      }\n",
              "      })();\n",
              "    </script>\n",
              "  </div>\n",
              "\n",
              "    </div>\n",
              "  </div>\n"
            ],
            "application/vnd.google.colaboratory.intrinsic+json": {
              "type": "dataframe",
              "variable_name": "df_ready",
              "summary": "{\n  \"name\": \"df_ready\",\n  \"rows\": 38497,\n  \"fields\": [\n    {\n      \"column\": \"Rating\",\n      \"properties\": {\n        \"dtype\": \"number\",\n        \"std\": 0,\n        \"min\": 1,\n        \"max\": 3,\n        \"num_unique_values\": 3,\n        \"samples\": [\n          3,\n          1,\n          2\n        ],\n        \"semantic_type\": \"\",\n        \"description\": \"\"\n      }\n    },\n    {\n      \"column\": \"cluster\",\n      \"properties\": {\n        \"dtype\": \"int32\",\n        \"num_unique_values\": 3,\n        \"samples\": [\n          2,\n          1,\n          0\n        ],\n        \"semantic_type\": \"\",\n        \"description\": \"\"\n      }\n    }\n  ]\n}"
            }
          },
          "metadata": {},
          "execution_count": 36
        }
      ],
      "source": [
        "df_ready = pd.DataFrame({\n",
        "    \"Rating\":y_resampled,\n",
        "    'cluster': cluster_labels\n",
        "})\n",
        "df_ready"
      ]
    },
    {
      "cell_type": "code",
      "execution_count": 37,
      "metadata": {
        "colab": {
          "base_uri": "https://localhost:8080/"
        },
        "execution": {
          "iopub.execute_input": "2025-02-21T00:01:59.008931Z",
          "iopub.status.busy": "2025-02-21T00:01:59.008595Z",
          "iopub.status.idle": "2025-02-21T00:01:59.020522Z",
          "shell.execute_reply": "2025-02-21T00:01:59.019345Z",
          "shell.execute_reply.started": "2025-02-21T00:01:59.008908Z"
        },
        "id": "YmXs-OqTGe2N",
        "outputId": "3e68faae-519b-4d2d-a858-244565dd29c8",
        "trusted": true
      },
      "outputs": [
        {
          "output_type": "stream",
          "name": "stdout",
          "text": [
            "\n",
            "Cluster to Rating Distribution:\n",
            "cluster  Rating\n",
            "0        3           197\n",
            "1        1         11809\n",
            "         3           852\n",
            "         2           728\n",
            "2        3         24620\n",
            "         2           250\n",
            "         1            41\n",
            "Name: count, dtype: int64\n"
          ]
        }
      ],
      "source": [
        "# Check the distribution of ratings per cluster\n",
        "cluster_rating_distribution = df_ready.groupby('cluster')['Rating'].value_counts()\n",
        "print(\"\\nCluster to Rating Distribution:\")\n",
        "print(cluster_rating_distribution)"
      ]
    },
    {
      "cell_type": "code",
      "execution_count": 38,
      "metadata": {
        "colab": {
          "base_uri": "https://localhost:8080/"
        },
        "execution": {
          "iopub.execute_input": "2025-02-21T00:02:06.088080Z",
          "iopub.status.busy": "2025-02-21T00:02:06.087686Z",
          "iopub.status.idle": "2025-02-21T00:02:06.108031Z",
          "shell.execute_reply": "2025-02-21T00:02:06.106894Z",
          "shell.execute_reply.started": "2025-02-21T00:02:06.088050Z"
        },
        "id": "dbmkb7LGGe2O",
        "outputId": "16bfb1d6-debb-4d02-a81d-53d208956ca8",
        "trusted": true
      },
      "outputs": [
        {
          "output_type": "stream",
          "name": "stdout",
          "text": [
            "\n",
            "Cluster to Rating Mapping:\n",
            "   cluster  Rating\n",
            "0        0       3\n",
            "1        1       1\n",
            "2        2       3\n"
          ]
        }
      ],
      "source": [
        "# Create 'Predicted Rating' column based on majority class within each cluster\n",
        "df_ready['Predicted Rating'] = df_ready.groupby('cluster')['Rating'].transform(lambda x: x.mode()[0])\n",
        "\n",
        "# Step 8: Print the result of the cluster to rating mapping\n",
        "cluster_rating_mapping = df_ready.groupby('cluster')['Rating'].agg(lambda x: x.mode()[0]).reset_index()\n",
        "print(\"\\nCluster to Rating Mapping:\")\n",
        "print(cluster_rating_mapping)"
      ]
    },
    {
      "cell_type": "code",
      "execution_count": 39,
      "metadata": {
        "colab": {
          "base_uri": "https://localhost:8080/"
        },
        "execution": {
          "iopub.execute_input": "2025-02-21T00:02:08.855194Z",
          "iopub.status.busy": "2025-02-21T00:02:08.854824Z",
          "iopub.status.idle": "2025-02-21T00:02:08.861555Z",
          "shell.execute_reply": "2025-02-21T00:02:08.860592Z",
          "shell.execute_reply.started": "2025-02-21T00:02:08.855162Z"
        },
        "id": "FfwGfehyGe2P",
        "outputId": "79b92d3b-b385-4427-a05d-d625cc2b4b1f",
        "trusted": true
      },
      "outputs": [
        {
          "output_type": "stream",
          "name": "stdout",
          "text": [
            "\n",
            "Exact Match Percentage: 95.14%\n"
          ]
        }
      ],
      "source": [
        "match_percentage = (df_ready[\"Rating\"] == df_ready[\"Predicted Rating\"]).mean() * 100\n",
        "print(f\"\\nExact Match Percentage: {match_percentage:.2f}%\")"
      ]
    },
    {
      "cell_type": "code",
      "execution_count": 40,
      "metadata": {
        "colab": {
          "base_uri": "https://localhost:8080/"
        },
        "execution": {
          "iopub.execute_input": "2025-02-21T00:02:11.504700Z",
          "iopub.status.busy": "2025-02-21T00:02:11.504249Z",
          "iopub.status.idle": "2025-02-21T00:02:11.518291Z",
          "shell.execute_reply": "2025-02-21T00:02:11.517261Z",
          "shell.execute_reply.started": "2025-02-21T00:02:11.504664Z"
        },
        "id": "PngP1N0FGe2P",
        "outputId": "33d96735-ea28-4dae-8fde-6e3547b792be",
        "trusted": true
      },
      "outputs": [
        {
          "output_type": "execute_result",
          "data": {
            "text/plain": [
              "0.939816292122065"
            ]
          },
          "metadata": {},
          "execution_count": 40
        }
      ],
      "source": [
        "#using f1 score beacasue we have th elabel to know how good our clustering is\n",
        "from sklearn.metrics import f1_score\n",
        "f1_score(df_ready['Rating'], df_ready['Predicted Rating'],average='weighted')"
      ]
    },
    {
      "cell_type": "code",
      "execution_count": 41,
      "metadata": {
        "colab": {
          "base_uri": "https://localhost:8080/",
          "height": 564
        },
        "execution": {
          "iopub.execute_input": "2025-02-21T00:02:14.630045Z",
          "iopub.status.busy": "2025-02-21T00:02:14.629712Z",
          "iopub.status.idle": "2025-02-21T00:02:14.914048Z",
          "shell.execute_reply": "2025-02-21T00:02:14.913220Z",
          "shell.execute_reply.started": "2025-02-21T00:02:14.630019Z"
        },
        "id": "a3fAxtl2Ge2h",
        "outputId": "18a48dc7-525f-47fc-94bc-7864aa0a1e19",
        "trusted": true
      },
      "outputs": [
        {
          "output_type": "display_data",
          "data": {
            "text/plain": [
              "<Figure size 800x600 with 2 Axes>"
            ],
            "image/png": "[encoded data removed]"
          },
          "metadata": {}
        }
      ],
      "source": [
        "from sklearn.metrics import confusion_matrix\n",
        "\n",
        "conf_matrix = confusion_matrix(df_ready['Rating'], df_ready['Predicted Rating'])\n",
        "labels = np.sort(df_ready['Rating'].unique())\n",
        "plt.figure(figsize=(8, 6))\n",
        "sns.heatmap(conf_matrix, annot=True, fmt='d', cmap='Blues', xticklabels=labels, yticklabels=labels)\n",
        "plt.xlabel('Predicted Rating')\n",
        "plt.ylabel('True Rating')\n",
        "plt.title('Confusion Matrix Heatmap')\n",
        "plt.show()"
      ]
    },
    {
      "cell_type": "markdown",
      "metadata": {
        "id": "kh9CkMB_Ge2k"
      },
      "source": [
        "## Comp"
      ]
    },
    {
      "cell_type": "code",
      "execution_count": 42,
      "metadata": {
        "execution": {
          "iopub.execute_input": "2025-02-21T00:02:38.517985Z",
          "iopub.status.busy": "2025-02-21T00:02:38.517661Z",
          "iopub.status.idle": "2025-02-21T00:02:38.586509Z",
          "shell.execute_reply": "2025-02-21T00:02:38.585679Z",
          "shell.execute_reply.started": "2025-02-21T00:02:38.517962Z"
        },
        "id": "CfUjENh0Ge2l",
        "trusted": true
      },
      "outputs": [],
      "source": [
        "X_normalizedt = scaler.transform(Xt)\n"
      ]
    },
    {
      "cell_type": "code",
      "execution_count": 43,
      "metadata": {
        "execution": {
          "iopub.execute_input": "2025-02-21T00:02:47.916175Z",
          "iopub.status.busy": "2025-02-21T00:02:47.915834Z",
          "iopub.status.idle": "2025-02-21T00:02:47.965200Z",
          "shell.execute_reply": "2025-02-21T00:02:47.964532Z",
          "shell.execute_reply.started": "2025-02-21T00:02:47.916150Z"
        },
        "id": "2oTTdKpsGe2l",
        "trusted": true
      },
      "outputs": [],
      "source": [
        "y_predt = kmeans.predict(X_normalizedt)\n",
        "cluster_to_rating = {\n",
        "    0:3 ,\n",
        "    1:1,\n",
        "    2:3\n",
        "}\n",
        "# Map the predicted clusters to ratings using the mapping\n",
        "y_predt = [cluster_to_rating[cluster] for cluster in y_predt]"
      ]
    },
    {
      "cell_type": "code",
      "execution_count": 44,
      "metadata": {
        "colab": {
          "base_uri": "https://localhost:8080/",
          "height": 423
        },
        "execution": {
          "iopub.execute_input": "2025-02-21T00:03:35.268874Z",
          "iopub.status.busy": "2025-02-21T00:03:35.268476Z",
          "iopub.status.idle": "2025-02-21T00:03:35.282376Z",
          "shell.execute_reply": "2025-02-21T00:03:35.281515Z",
          "shell.execute_reply.started": "2025-02-21T00:03:35.268848Z"
        },
        "id": "VveaxDF1Ge2m",
        "outputId": "306ae4aa-19a9-4788-8f1b-8fbf88fc99e7",
        "trusted": true
      },
      "outputs": [
        {
          "output_type": "execute_result",
          "data": {
            "text/plain": [
              "           ID  Rating\n",
              "0      191058       3\n",
              "1      136974       3\n",
              "2      146157       3\n",
              "3      106708       3\n",
              "4      141727       3\n",
              "...       ...     ...\n",
              "11995  175308       3\n",
              "11996  167206       3\n",
              "11997  134169       1\n",
              "11998  130286       3\n",
              "11999  112372       3\n",
              "\n",
              "[12000 rows x 2 columns]"
            ],
            "text/html": [
              "\n",
              "  <div id=\"df-f342b105-ad6d-4f7d-b297-900d38d721db\" class=\"colab-df-container\">\n",
              "    <div>\n",
              "<style scoped>\n",
              "    .dataframe tbody tr th:only-of-type {\n",
              "        vertical-align: middle;\n",
              "    }\n",
              "\n",
              "    .dataframe tbody tr th {\n",
              "        vertical-align: top;\n",
              "    }\n",
              "\n",
              "    .dataframe thead th {\n",
              "        text-align: right;\n",
              "    }\n",
              "</style>\n",
              "<table border=\"1\" class=\"dataframe\">\n",
              "  <thead>\n",
              "    <tr style=\"text-align: right;\">\n",
              "      <th></th>\n",
              "      <th>ID</th>\n",
              "      <th>Rating</th>\n",
              "    </tr>\n",
              "  </thead>\n",
              "  <tbody>\n",
              "    <tr>\n",
              "      <th>0</th>\n",
              "      <td>191058</td>\n",
              "      <td>3</td>\n",
              "    </tr>\n",
              "    <tr>\n",
              "      <th>1</th>\n",
              "      <td>136974</td>\n",
              "      <td>3</td>\n",
              "    </tr>\n",
              "    <tr>\n",
              "      <th>2</th>\n",
              "      <td>146157</td>\n",
              "      <td>3</td>\n",
              "    </tr>\n",
              "    <tr>\n",
              "      <th>3</th>\n",
              "      <td>106708</td>\n",
              "      <td>3</td>\n",
              "    </tr>\n",
              "    <tr>\n",
              "      <th>4</th>\n",
              "      <td>141727</td>\n",
              "      <td>3</td>\n",
              "    </tr>\n",
              "    <tr>\n",
              "      <th>...</th>\n",
              "      <td>...</td>\n",
              "      <td>...</td>\n",
              "    </tr>\n",
              "    <tr>\n",
              "      <th>11995</th>\n",
              "      <td>175308</td>\n",
              "      <td>3</td>\n",
              "    </tr>\n",
              "    <tr>\n",
              "      <th>11996</th>\n",
              "      <td>167206</td>\n",
              "      <td>3</td>\n",
              "    </tr>\n",
              "    <tr>\n",
              "      <th>11997</th>\n",
              "      <td>134169</td>\n",
              "      <td>1</td>\n",
              "    </tr>\n",
              "    <tr>\n",
              "      <th>11998</th>\n",
              "      <td>130286</td>\n",
              "      <td>3</td>\n",
              "    </tr>\n",
              "    <tr>\n",
              "      <th>11999</th>\n",
              "      <td>112372</td>\n",
              "      <td>3</td>\n",
              "    </tr>\n",
              "  </tbody>\n",
              "</table>\n",
              "<p>12000 rows × 2 columns</p>\n",
              "</div>\n",
              "    <div class=\"colab-df-buttons\">\n",
              "\n",
              "  <div class=\"colab-df-container\">\n",
              "    <button class=\"colab-df-convert\" onclick=\"convertToInteractive('df-f342b105-ad6d-4f7d-b297-900d38d721db')\"\n",
              "            title=\"Convert this dataframe to an interactive table.\"\n",
              "            style=\"display:none;\">\n",
              "\n",
              "  <svg xmlns=\"http://www.w3.org/2000/svg\" height=\"24px\" viewBox=\"0 -960 960 960\">\n",
              "    <path d=\"M120-120v-720h720v720H120Zm60-500h600v-160H180v160Zm220 220h160v-160H400v160Zm0 220h160v-160H400v160ZM180-400h160v-160H180v160Zm440 0h160v-160H620v160ZM180-180h160v-160H180v160Zm440 0h160v-160H620v160Z\"/>\n",
              "  </svg>\n",
              "    </button>\n",
              "\n",
              "  <style>\n",
              "    .colab-df-container {\n",
              "      display:flex;\n",
              "      gap: 12px;\n",
              "    }\n",
              "\n",
              "    .colab-df-convert {\n",
              "      background-color: #E8F0FE;\n",
              "      border: none;\n",
              "      border-radius: 50%;\n",
              "      cursor: pointer;\n",
              "      display: none;\n",
              "      fill: #1967D2;\n",
              "      height: 32px;\n",
              "      padding: 0 0 0 0;\n",
              "      width: 32px;\n",
              "    }\n",
              "\n",
              "    .colab-df-convert:hover {\n",
              "      background-color: #E2EBFA;\n",
              "      box-shadow: 0px 1px 2px rgba(60, 64, 67, 0.3), 0px 1px 3px 1px rgba(60, 64, 67, 0.15);\n",
              "      fill: #174EA6;\n",
              "    }\n",
              "\n",
              "    .colab-df-buttons div {\n",
              "      margin-bottom: 4px;\n",
              "    }\n",
              "\n",
              "    [theme=dark] .colab-df-convert {\n",
              "      background-color: #3B4455;\n",
              "      fill: #D2E3FC;\n",
              "    }\n",
              "\n",
              "    [theme=dark] .colab-df-convert:hover {\n",
              "      background-color: #434B5C;\n",
              "      box-shadow: 0px 1px 3px 1px rgba(0, 0, 0, 0.15);\n",
              "      filter: drop-shadow(0px 1px 2px rgba(0, 0, 0, 0.3));\n",
              "      fill: #FFFFFF;\n",
              "    }\n",
              "  </style>\n",
              "\n",
              "    <script>\n",
              "      const buttonEl =\n",
              "        document.querySelector('#df-f342b105-ad6d-4f7d-b297-900d38d721db button.colab-df-convert');\n",
              "      buttonEl.style.display =\n",
              "        google.colab.kernel.accessAllowed ? 'block' : 'none';\n",
              "\n",
              "      async function convertToInteractive(key) {\n",
              "        const element = document.querySelector('#df-f342b105-ad6d-4f7d-b297-900d38d721db');\n",
              "        const dataTable =\n",
              "          await google.colab.kernel.invokeFunction('convertToInteractive',\n",
              "                                                    [key], {});\n",
              "        if (!dataTable) return;\n",
              "\n",
              "        const docLinkHtml = 'Like what you see? Visit the ' +\n",
              "          '<a target=\"_blank\" href=https://colab.research.google.com/notebooks/data_table.ipynb>data table notebook</a>'\n",
              "          + ' to learn more about interactive tables.';\n",
              "        element.innerHTML = '';\n",
              "        dataTable['output_type'] = 'display_data';\n",
              "        await google.colab.output.renderOutput(dataTable, element);\n",
              "        const docLink = document.createElement('div');\n",
              "        docLink.innerHTML = docLinkHtml;\n",
              "        element.appendChild(docLink);\n",
              "      }\n",
              "    </script>\n",
              "  </div>\n",
              "\n",
              "\n",
              "<div id=\"df-0749b1b9-ee9b-4d4b-9413-637e9ebb84e4\">\n",
              "  <button class=\"colab-df-quickchart\" onclick=\"quickchart('df-0749b1b9-ee9b-4d4b-9413-637e9ebb84e4')\"\n",
              "            title=\"Suggest charts\"\n",
              "            style=\"display:none;\">\n",
              "\n",
              "<svg xmlns=\"http://www.w3.org/2000/svg\" height=\"24px\"viewBox=\"0 0 24 24\"\n",
              "     width=\"24px\">\n",
              "    <g>\n",
              "        <path d=\"M19 3H5c-1.1 0-2 .9-2 2v14c0 1.1.9 2 2 2h14c1.1 0 2-.9 2-2V5c0-1.1-.9-2-2-2zM9 17H7v-7h2v7zm4 0h-2V7h2v10zm4 0h-2v-4h2v4z\"/>\n",
              "    </g>\n",
              "</svg>\n",
              "  </button>\n",
              "\n",
              "<style>\n",
              "  .colab-df-quickchart {\n",
              "      --bg-color: #E8F0FE;\n",
              "      --fill-color: #1967D2;\n",
              "      --hover-bg-color: #E2EBFA;\n",
              "      --hover-fill-color: #174EA6;\n",
              "      --disabled-fill-color: #AAA;\n",
              "      --disabled-bg-color: #DDD;\n",
              "  }\n",
              "\n",
              "  [theme=dark] .colab-df-quickchart {\n",
              "      --bg-color: #3B4455;\n",
              "      --fill-color: #D2E3FC;\n",
              "      --hover-bg-color: #434B5C;\n",
              "      --hover-fill-color: #FFFFFF;\n",
              "      --disabled-bg-color: #3B4455;\n",
              "      --disabled-fill-color: #666;\n",
              "  }\n",
              "\n",
              "  .colab-df-quickchart {\n",
              "    background-color: var(--bg-color);\n",
              "    border: none;\n",
              "    border-radius: 50%;\n",
              "    cursor: pointer;\n",
              "    display: none;\n",
              "    fill: var(--fill-color);\n",
              "    height: 32px;\n",
              "    padding: 0;\n",
              "    width: 32px;\n",
              "  }\n",
              "\n",
              "  .colab-df-quickchart:hover {\n",
              "    background-color: var(--hover-bg-color);\n",
              "    box-shadow: 0 1px 2px rgba(60, 64, 67, 0.3), 0 1px 3px 1px rgba(60, 64, 67, 0.15);\n",
              "    fill: var(--button-hover-fill-color);\n",
              "  }\n",
              "\n",
              "  .colab-df-quickchart-complete:disabled,\n",
              "  .colab-df-quickchart-complete:disabled:hover {\n",
              "    background-color: var(--disabled-bg-color);\n",
              "    fill: var(--disabled-fill-color);\n",
              "    box-shadow: none;\n",
              "  }\n",
              "\n",
              "  .colab-df-spinner {\n",
              "    border: 2px solid var(--fill-color);\n",
              "    border-color: transparent;\n",
              "    border-bottom-color: var(--fill-color);\n",
              "    animation:\n",
              "      spin 1s steps(1) infinite;\n",
              "  }\n",
              "\n",
              "  @keyframes spin {\n",
              "    0% {\n",
              "      border-color: transparent;\n",
              "      border-bottom-color: var(--fill-color);\n",
              "      border-left-color: var(--fill-color);\n",
              "    }\n",
              "    20% {\n",
              "      border-color: transparent;\n",
              "      border-left-color: var(--fill-color);\n",
              "      border-top-color: var(--fill-color);\n",
              "    }\n",
              "    30% {\n",
              "      border-color: transparent;\n",
              "      border-left-color: var(--fill-color);\n",
              "      border-top-color: var(--fill-color);\n",
              "      border-right-color: var(--fill-color);\n",
              "    }\n",
              "    40% {\n",
              "      border-color: transparent;\n",
              "      border-right-color: var(--fill-color);\n",
              "      border-top-color: var(--fill-color);\n",
              "    }\n",
              "    60% {\n",
              "      border-color: transparent;\n",
              "      border-right-color: var(--fill-color);\n",
              "    }\n",
              "    80% {\n",
              "      border-color: transparent;\n",
              "      border-right-color: var(--fill-color);\n",
              "      border-bottom-color: var(--fill-color);\n",
              "    }\n",
              "    90% {\n",
              "      border-color: transparent;\n",
              "      border-bottom-color: var(--fill-color);\n",
              "    }\n",
              "  }\n",
              "</style>\n",
              "\n",
              "  <script>\n",
              "    async function quickchart(key) {\n",
              "      const quickchartButtonEl =\n",
              "        document.querySelector('#' + key + ' button');\n",
              "      quickchartButtonEl.disabled = true;  // To prevent multiple clicks.\n",
              "      quickchartButtonEl.classList.add('colab-df-spinner');\n",
              "      try {\n",
              "        const charts = await google.colab.kernel.invokeFunction(\n",
              "            'suggestCharts', [key], {});\n",
              "      } catch (error) {\n",
              "        console.error('Error during call to suggestCharts:', error);\n",
              "      }\n",
              "      quickchartButtonEl.classList.remove('colab-df-spinner');\n",
              "      quickchartButtonEl.classList.add('colab-df-quickchart-complete');\n",
              "    }\n",
              "    (() => {\n",
              "      let quickchartButtonEl =\n",
              "        document.querySelector('#df-0749b1b9-ee9b-4d4b-9413-637e9ebb84e4 button');\n",
              "      quickchartButtonEl.style.display =\n",
              "        google.colab.kernel.accessAllowed ? 'block' : 'none';\n",
              "    })();\n",
              "  </script>\n",
              "</div>\n",
              "\n",
              "  <div id=\"id_8db16ebe-5075-4b12-b5eb-4ba9b2b55410\">\n",
              "    <style>\n",
              "      .colab-df-generate {\n",
              "        background-color: #E8F0FE;\n",
              "        border: none;\n",
              "        border-radius: 50%;\n",
              "        cursor: pointer;\n",
              "        display: none;\n",
              "        fill: #1967D2;\n",
              "        height: 32px;\n",
              "        padding: 0 0 0 0;\n",
              "        width: 32px;\n",
              "      }\n",
              "\n",
              "      .colab-df-generate:hover {\n",
              "        background-color: #E2EBFA;\n",
              "        box-shadow: 0px 1px 2px rgba(60, 64, 67, 0.3), 0px 1px 3px 1px rgba(60, 64, 67, 0.15);\n",
              "        fill: #174EA6;\n",
              "      }\n",
              "\n",
              "      [theme=dark] .colab-df-generate {\n",
              "        background-color: #3B4455;\n",
              "        fill: #D2E3FC;\n",
              "      }\n",
              "\n",
              "      [theme=dark] .colab-df-generate:hover {\n",
              "        background-color: #434B5C;\n",
              "        box-shadow: 0px 1px 3px 1px rgba(0, 0, 0, 0.15);\n",
              "        filter: drop-shadow(0px 1px 2px rgba(0, 0, 0, 0.3));\n",
              "        fill: #FFFFFF;\n",
              "      }\n",
              "    </style>\n",
              "    <button class=\"colab-df-generate\" onclick=\"generateWithVariable('df_comp')\"\n",
              "            title=\"Generate code using this dataframe.\"\n",
              "            style=\"display:none;\">\n",
              "\n",
              "  <svg xmlns=\"http://www.w3.org/2000/svg\" height=\"24px\"viewBox=\"0 0 24 24\"\n",
              "       width=\"24px\">\n",
              "    <path d=\"M7,19H8.4L18.45,9,17,7.55,7,17.6ZM5,21V16.75L18.45,3.32a2,2,0,0,1,2.83,0l1.4,1.43a1.91,1.91,0,0,1,.58,1.4,1.91,1.91,0,0,1-.58,1.4L9.25,21ZM18.45,9,17,7.55Zm-12,3A5.31,5.31,0,0,0,4.9,8.1,5.31,5.31,0,0,0,1,6.5,5.31,5.31,0,0,0,4.9,4.9,5.31,5.31,0,0,0,6.5,1,5.31,5.31,0,0,0,8.1,4.9,5.31,5.31,0,0,0,12,6.5,5.46,5.46,0,0,0,6.5,12Z\"/>\n",
              "  </svg>\n",
              "    </button>\n",
              "    <script>\n",
              "      (() => {\n",
              "      const buttonEl =\n",
              "        document.querySelector('#id_8db16ebe-5075-4b12-b5eb-4ba9b2b55410 button.colab-df-generate');\n",
              "      buttonEl.style.display =\n",
              "        google.colab.kernel.accessAllowed ? 'block' : 'none';\n",
              "\n",
              "      buttonEl.onclick = () => {\n",
              "        google.colab.notebook.generateWithVariable('df_comp');\n",
              "      }\n",
              "      })();\n",
              "    </script>\n",
              "  </div>\n",
              "\n",
              "    </div>\n",
              "  </div>\n"
            ],
            "application/vnd.google.colaboratory.intrinsic+json": {
              "type": "dataframe",
              "variable_name": "df_comp",
              "summary": "{\n  \"name\": \"df_comp\",\n  \"rows\": 12000,\n  \"fields\": [\n    {\n      \"column\": \"ID\",\n      \"properties\": {\n        \"dtype\": \"number\",\n        \"std\": 28936,\n        \"min\": 100003,\n        \"max\": 199999,\n        \"num_unique_values\": 12000,\n        \"samples\": [\n          164242,\n          196926,\n          180551\n        ],\n        \"semantic_type\": \"\",\n        \"description\": \"\"\n      }\n    },\n    {\n      \"column\": \"Rating\",\n      \"properties\": {\n        \"dtype\": \"number\",\n        \"std\": 0,\n        \"min\": 1,\n        \"max\": 3,\n        \"num_unique_values\": 2,\n        \"samples\": [\n          1,\n          3\n        ],\n        \"semantic_type\": \"\",\n        \"description\": \"\"\n      }\n    }\n  ]\n}"
            }
          },
          "metadata": {},
          "execution_count": 44
        }
      ],
      "source": [
        "df_comp = pd.DataFrame({\n",
        "    \"ID\":df_test[\"ID\"],\n",
        "    \"Rating\":y_predt\n",
        "})\n",
        "df_comp"
      ]
    },
    {
      "cell_type": "code",
      "execution_count": 45,
      "metadata": {
        "execution": {
          "iopub.execute_input": "2025-02-21T00:03:37.958773Z",
          "iopub.status.busy": "2025-02-21T00:03:37.958421Z",
          "iopub.status.idle": "2025-02-21T00:03:37.974815Z",
          "shell.execute_reply": "2025-02-21T00:03:37.973850Z",
          "shell.execute_reply.started": "2025-02-21T00:03:37.958745Z"
        },
        "id": "lII9DzIkGe2m",
        "trusted": true
      },
      "outputs": [],
      "source": [
        "df_comp.to_csv(\"Final_test.csv\", index=False)"
      ]
    },
    {
      "cell_type": "code",
      "execution_count": 46,
      "metadata": {
        "colab": {
          "base_uri": "https://localhost:8080/",
          "height": 17
        },
        "id": "sZaZ01GQIOUW",
        "outputId": "ff22ec10-463a-4524-94a2-abf201695923"
      },
      "outputs": [
        {
          "output_type": "display_data",
          "data": {
            "text/plain": [
              "<IPython.core.display.Javascript object>"
            ],
            "application/javascript": [
              "\n",
              "    async function download(id, filename, size) {\n",
              "      if (!google.colab.kernel.accessAllowed) {\n",
              "        return;\n",
              "      }\n",
              "      const div = document.createElement('div');\n",
              "      const label = document.createElement('label');\n",
              "      label.textContent = `Downloading \"${filename}\": `;\n",
              "      div.appendChild(label);\n",
              "      const progress = document.createElement('progress');\n",
              "      progress.max = size;\n",
              "      div.appendChild(progress);\n",
              "      document.body.appendChild(div);\n",
              "\n",
              "      const buffers = [];\n",
              "      let downloaded = 0;\n",
              "\n",
              "      const channel = await google.colab.kernel.comms.open(id);\n",
              "      // Send a message to notify the kernel that we're ready.\n",
              "      channel.send({})\n",
              "\n",
              "      for await (const message of channel.messages) {\n",
              "        // Send a message to notify the kernel that we're ready.\n",
              "        channel.send({})\n",
              "        if (message.buffers) {\n",
              "          for (const buffer of message.buffers) {\n",
              "            buffers.push(buffer);\n",
              "            downloaded += buffer.byteLength;\n",
              "            progress.value = downloaded;\n",
              "          }\n",
              "        }\n",
              "      }\n",
              "      const blob = new Blob(buffers, {type: 'application/binary'});\n",
              "      const a = document.createElement('a');\n",
              "      a.href = window.URL.createObjectURL(blob);\n",
              "      a.download = filename;\n",
              "      div.appendChild(a);\n",
              "      a.click();\n",
              "      div.remove();\n",
              "    }\n",
              "  "
            ]
          },
          "metadata": {}
        },
        {
          "output_type": "display_data",
          "data": {
            "text/plain": [
              "<IPython.core.display.Javascript object>"
            ],
            "application/javascript": [
              "download(\"download_80ff8d32-17c4-4191-b5e9-06e3199c4ee2\", \"Final_test.csv\", 108010)"
            ]
          },
          "metadata": {}
        }
      ],
      "source": [
        "#colab\n",
        "from google.colab import files\n",
        "files.download(\"Final_test.csv\")\n"
      ]
    }
  ],
  "metadata": {
    "colab": {
      "provenance": []
    },
    "kaggle": {
      "accelerator": "nvidiaTeslaT4",
      "dataSources": [
        {
          "datasetId": 6691083,
          "sourceId": 10798597,
          "sourceType": "datasetVersion"
        }
      ],
      "dockerImageVersionId": 30886,
      "isGpuEnabled": true,
      "isInternetEnabled": true,
      "language": "python",
      "sourceType": "notebook"
    },
    "kernelspec": {
      "display_name": "Python 3",
      "language": "python",
      "name": "python3"
    },
    "language_info": {
      "codemirror_mode": {
        "name": "ipython",
        "version": 3
      },
      "file_extension": ".py",
      "mimetype": "text/x-python",
      "name": "python",
      "nbconvert_exporter": "python",
      "pygments_lexer": "ipython3",
      "version": "3.10.12"
    }
  },
  "nbformat": 4,
  "nbformat_minor": 0
}